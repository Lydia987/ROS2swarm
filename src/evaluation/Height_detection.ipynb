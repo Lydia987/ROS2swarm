{
 "cells": [
  {
   "cell_type": "code",
   "execution_count": 40,
   "metadata": {},
   "outputs": [
    {
     "name": "stdout",
     "output_type": "stream",
     "text": [
      "x_center = 320\n",
      "height_px = 174\n",
      "pixel_size = 0.01597373726474142\n",
      "height_m = 1.0962\n"
     ]
    }
   ],
   "source": [
    "# ZUM AUSTESTEN DER HÖHENERKENNUNG #\n",
    "\n",
    "import cv2\n",
    "import numpy as np\n",
    "\n",
    "image_path = 'height.jpeg'\n",
    "img = cv2.imread(image_path)\n",
    "\n",
    "min_y = img.shape[0]\n",
    "max_y = 0\n",
    "x_center = int(img.shape[1] / 2)\n",
    "print(\"x_center = \" + str(x_center))\n",
    "\n",
    "\n",
    "for y in range(img.shape[0]):\n",
    "    b, g, r = img[y, x_center]\n",
    "    if b > 150 and g < 50 and r < 50:\n",
    "        if y < min_y:\n",
    "            min_y = y\n",
    "        if y > max_y:\n",
    "            max_y = y\n",
    "            \n",
    "height_px = max_y - min_y\n",
    "\n",
    "print(\"height_px = \" + str(height_px))\n",
    "\n",
    "# min_y = 81\n",
    "# ---\n",
    "# data: max_y = 255\n",
    "\n",
    "\n",
    "# calculate pixel size\n",
    "# Camera module v 2.1 TODO: Zu parameter machen\n",
    "dist = 3.239105701446533\n",
    "focal_length_mm = 3.04\n",
    "sensor_height_mm = 2.76\n",
    "img_height_px = img.shape[1]\n",
    "v_resolution_px_per_mm = img_height_px / sensor_height_mm\n",
    "v_resolution_rad = 2 * np.arctan((sensor_height_mm / 2) / focal_length_mm)\n",
    "pixel_size = np.tan(v_resolution_rad) * dist / v_resolution_px_per_mm\n",
    "print(\"pixel_size =\",pixel_size)\n",
    "pixel_size = 0.0063\n",
    "print(\"height_m =\", height_px * pixel_size)"
   ]
  },
  {
   "cell_type": "code",
   "execution_count": null,
   "metadata": {},
   "outputs": [],
   "source": []
  }
 ],
 "metadata": {
  "kernelspec": {
   "display_name": "Python 3",
   "language": "python",
   "name": "python3"
  },
  "language_info": {
   "codemirror_mode": {
    "name": "ipython",
    "version": 3
   },
   "file_extension": ".py",
   "mimetype": "text/x-python",
   "name": "python",
   "nbconvert_exporter": "python",
   "pygments_lexer": "ipython3",
   "version": "3.8.10"
  }
 },
 "nbformat": 4,
 "nbformat_minor": 4
}
